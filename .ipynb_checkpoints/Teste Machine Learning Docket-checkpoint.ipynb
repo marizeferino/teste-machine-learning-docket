{
 "cells": [
  {
   "cell_type": "markdown",
   "metadata": {},
   "source": [
    "# Teste Machine Learning Docket"
   ]
  },
  {
   "cell_type": "markdown",
   "metadata": {},
   "source": [
    "Requisitos obrigatórios:\n",
    "> - Através do processamento de texto e/ou imagem, extrair o número de CPF de um documento CNH;\n",
    "> - Desenvolver o próprio dataset.\n",
    "\n",
    "Requisitos opicionais:\n",
    "> - Extrair outras informações padrões da CNH, como por exemplo data de validade, RG e Nome."
   ]
  },
  {
   "cell_type": "code",
   "execution_count": 1,
   "metadata": {
    "scrolled": false
   },
   "outputs": [],
   "source": [
    "import cv2\n",
    "import pytesseract\n",
    "from skimage.filters import threshold_local\n",
    "\n",
    "import re\n",
    "\n",
    "# referenciar ao arquivo executável tesseract baixado\n",
    "pytesseract.pytesseract.tesseract_cmd = r'C:\\Program Files\\Tesseract-OCR\\tesseract'"
   ]
  },
  {
   "cell_type": "markdown",
   "metadata": {},
   "source": [
    "## 1. Reconhecimento Ótico de Caracteres"
   ]
  },
  {
   "cell_type": "markdown",
   "metadata": {},
   "source": [
    "#### CNH Digitalizada\n",
    "\n",
    "<img src=\"Digitalizada.jpeg\" width=\"400\">"
   ]
  },
  {
   "cell_type": "code",
   "execution_count": 2,
   "metadata": {
    "scrolled": false
   },
   "outputs": [
    {
     "name": "stdout",
     "output_type": "stream",
     "text": [
      " \n",
      "\n",
      " \n",
      "\n",
      "MARIANA ZEFERINO DOS SANTOS\n",
      "\n",
      " \n",
      "\n",
      "VALIDA EM TODO\n",
      "O TERRITORIO NACIONAL\n",
      "\n",
      " \n",
      "\n",
      "DOG. IDENTIDADE / ORG. EMISSOR / UF —\n",
      "(458418811 SSP SP\n",
      "CPF DATA NASCIMENT\n",
      "[aas. 712 .888- eslGssisrisss),\n",
      "\n",
      "FILIAGAO\n",
      "\n",
      "      \n",
      "    \n",
      "  \n",
      "\n",
      "OS SANTOS\n",
      "PERMISSAO: CAT. HAB--\n",
      "( me }\n",
      "+*HABILITAGAO ==,\n",
      "\n",
      " \n",
      " \n",
      "    \n",
      "\n",
      "    \n",
      "\n",
      " \n",
      "     \n",
      " \n",
      " \n",
      "\n",
      "    \n",
      " \n",
      "\n",
      "‘VALIDADE:\n",
      "\n",
      "46/n2/9n92\n",
      "\f",
      "\n"
     ]
    }
   ],
   "source": [
    "print(pytesseract.image_to_string('Digitalizada.jpeg'))"
   ]
  },
  {
   "cell_type": "markdown",
   "metadata": {},
   "source": [
    "#### CNH Foto\n",
    "\n",
    "<img src=\"Foto.jpeg\" width=\"400\">"
   ]
  },
  {
   "cell_type": "code",
   "execution_count": 3,
   "metadata": {
    "scrolled": false
   },
   "outputs": [
    {
     "data": {
      "text/plain": [
       "' \\n\\nMARIANA ZEFERINO\\n\\n \\n\\nDOG. IDENTIDADE / ORG. EMISSOR / UF\\n458418811 SSP SP\\n\\nCPF DATA NASCIMENTO,\\n| 426.712.888- 6a][15/12/1994 }\\n\\nFILIAGAO\\n\\n  \\n  \\n\\n \\n   \\n\\nEe\\ncer\\nOs SANTOS\\n\\nPERMISSAO: ACC: CAT. HAB.-\\n/ g | | }\\n(Comms (26/03/2073 | nn} — }\\n\\n   \\n\\nVALIDA EM TODO\\nO TERRITORIO NACIONAL\\n\\nfon\\n\\x0c'"
      ]
     },
     "execution_count": 3,
     "metadata": {},
     "output_type": "execute_result"
    }
   ],
   "source": [
    "pytesseract.image_to_string('Foto.jpeg')"
   ]
  },
  {
   "cell_type": "markdown",
   "metadata": {},
   "source": [
    "### 1.1 Melhorando a leitura das imagens e extraindo o texto"
   ]
  },
  {
   "cell_type": "markdown",
   "metadata": {},
   "source": [
    "[Link de referência](https://medium.com/stackchain/drivers-license-ocr-cnh-with-python-opencv-and-tesseract-21b0388ae101)"
   ]
  },
  {
   "cell_type": "code",
   "execution_count": 4,
   "metadata": {},
   "outputs": [],
   "source": [
    "def cleanExtractImage(image):\n",
    "    \n",
    "    image = cv2.imread(image)\n",
    "    V = cv2.cvtColor(image, cv2.COLOR_BGR2GRAY)\n",
    "    kernel = cv2.getStructuringElement(cv2.MORPH_RECT, (3, 3))\n",
    "\n",
    "    # aplicando operações topHat/blackHat\n",
    "    topHat = cv2.morphologyEx(V, cv2.MORPH_TOPHAT, kernel)\n",
    "    blackHat = cv2.morphologyEx(V, cv2.MORPH_BLACKHAT, kernel)\n",
    "\n",
    "    # adicionando e subtraindo entre as operações morfológicas\n",
    "    add = cv2.add(V, topHat)\n",
    "    subtract = cv2.subtract(add, blackHat)\n",
    "\n",
    "    T = threshold_local(subtract, 29, offset=35, method=\"gaussian\", mode=\"mirror\")\n",
    "    thresh = (subtract > T).astype(\"uint8\") * 255\n",
    "    \n",
    "    thresh = cv2.bitwise_not(thresh)\n",
    "    \n",
    "    # extraindo texto\n",
    "    texto = pytesseract.image_to_string(thresh).replace('. ','.').replace('[', '@').replace('(', '@')\n",
    "    \n",
    "    return texto"
   ]
  },
  {
   "cell_type": "code",
   "execution_count": 5,
   "metadata": {
    "scrolled": true
   },
   "outputs": [
    {
     "data": {
      "text/plain": [
       "' \\n\\n \\n\\nND = .=\\n@MARIANA ZEFERINO DOS SANTOS\\n‘ .- DOG.IDENTIDADE / ORG.EMISSOR | UF:\\n458418811.SSP SP\\n\\n<= CPF\\nwo | 426.712.888-62] 15/12/2199\\n\\nFILIAGAO.\\n\\n \\n\\n \\n\\n \\n\\n \\n\\n \\n\\n \\n\\n \\n\\n \\n\\x0c'"
      ]
     },
     "execution_count": 5,
     "metadata": {},
     "output_type": "execute_result"
    }
   ],
   "source": [
    "cleanExtractImage('Digitalizada.jpeg')"
   ]
  },
  {
   "cell_type": "code",
   "execution_count": 6,
   "metadata": {},
   "outputs": [
    {
     "data": {
      "text/plain": [
       "'  \\n       \\n\\n \\n\\n    \\n\\n\\\\) @MARIANA ZEFERINO DOS SANTOS\\né ‘ DOG.IDENTIDADE / ORG, EMISSOR / UF.\\noy 458418811 SSP.SP\\n\\n.CPF BATA NASCIMENTO}\\na 426.712.888-62]@15/12/1994 |\\n\\nFILIAGAO\\n\\n \\n\\n   \\n  \\n  \\n\\n   \\n\\nVALIDA EM TODO.\\n“OTERRITORIO NACIONAL\\n\\n2 N REGISTRO\\n@oi\\n\\n&\\n\\n  \\n\\n \\n\\n \\n\\n \\n\\x0c'"
      ]
     },
     "execution_count": 6,
     "metadata": {},
     "output_type": "execute_result"
    }
   ],
   "source": [
    "cleanExtractImage('Foto.jpeg')"
   ]
  },
  {
   "cell_type": "markdown",
   "metadata": {},
   "source": [
    "## 2. Processamento do texto"
   ]
  },
  {
   "cell_type": "code",
   "execution_count": 7,
   "metadata": {},
   "outputs": [],
   "source": [
    "def getText(image):\n",
    "    nome = re.findall('@([A-Z ]+)\\n', cleanExtractImage(image))\n",
    "    cpf = re.findall(\"\\d{3}.\\d{3}.\\d{3}-\\d{2}\", cleanExtractImage(image))\n",
    "    rg = re.findall(\"\\d{7,10}\", cleanExtractImage(image))\n",
    "    nascimento = re.findall(\"\\d{2}/\\d{2}/\\d{4}\", cleanExtractImage(image))\n",
    "    data = {'Nome': nome, 'CPF': cpf, 'RG': rg, 'Nascimento': nascimento}  \n",
    "    return data"
   ]
  },
  {
   "cell_type": "markdown",
   "metadata": {},
   "source": [
    "Informações extraídas da CNH Digitalizada:"
   ]
  },
  {
   "cell_type": "code",
   "execution_count": 8,
   "metadata": {
    "scrolled": true
   },
   "outputs": [
    {
     "data": {
      "text/plain": [
       "{'Nome': ['MARIANA ZEFERINO DOS SANTOS'],\n",
       " 'CPF': ['426.712.888-62'],\n",
       " 'RG': ['458418811'],\n",
       " 'Nascimento': ['15/12/2199']}"
      ]
     },
     "execution_count": 8,
     "metadata": {},
     "output_type": "execute_result"
    }
   ],
   "source": [
    "getText('Digitalizada.jpeg')"
   ]
  },
  {
   "cell_type": "markdown",
   "metadata": {},
   "source": [
    "Informações extraídas da CNH Foto:"
   ]
  },
  {
   "cell_type": "code",
   "execution_count": 9,
   "metadata": {},
   "outputs": [
    {
     "data": {
      "text/plain": [
       "{'Nome': ['MARIANA ZEFERINO DOS SANTOS'],\n",
       " 'CPF': ['426.712.888-62'],\n",
       " 'RG': ['458418811'],\n",
       " 'Nascimento': ['15/12/1994']}"
      ]
     },
     "execution_count": 9,
     "metadata": {},
     "output_type": "execute_result"
    }
   ],
   "source": [
    "getText('Foto.jpeg')"
   ]
  }
 ],
 "metadata": {
  "kernelspec": {
   "display_name": "Python 3.7.7 32-bit ('codenation': conda)",
   "language": "python",
   "name": "python37732bitcodenationcondaef9367d8198648b79aa2f8aa6b025077"
  },
  "language_info": {
   "codemirror_mode": {
    "name": "ipython",
    "version": 3
   },
   "file_extension": ".py",
   "mimetype": "text/x-python",
   "name": "python",
   "nbconvert_exporter": "python",
   "pygments_lexer": "ipython3",
   "version": "3.7.7"
  }
 },
 "nbformat": 4,
 "nbformat_minor": 2
}
